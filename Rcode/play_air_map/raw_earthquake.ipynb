{
 "metadata": {
  "name": ""
 },
 "nbformat": 3,
 "nbformat_minor": 0,
 "worksheets": [
  {
   "cells": [
    {
     "cell_type": "code",
     "collapsed": false,
     "input": [
      "import pandas as pd\n",
      "import re"
     ],
     "language": "python",
     "metadata": {},
     "outputs": [],
     "prompt_number": 18
    },
    {
     "cell_type": "code",
     "collapsed": false,
     "input": [
      "df = pd.read_excel(\"earthquake_month.xlsx\", \"2\").dropna()"
     ],
     "language": "python",
     "metadata": {},
     "outputs": [],
     "prompt_number": 15
    },
    {
     "cell_type": "code",
     "collapsed": false,
     "input": [
      "import datetime as dt"
     ],
     "language": "python",
     "metadata": {},
     "outputs": [],
     "prompt_number": 29
    },
    {
     "cell_type": "code",
     "collapsed": false,
     "input": [
      "r = re.match(\"(\\d+)\u6708(\\d+)\u65e5(\\d+)\u6642(\\d+)\u5206\", \"2\u670802\u65e502\u664203\u5206\", re.UNICODE).groups()"
     ],
     "language": "python",
     "metadata": {},
     "outputs": [],
     "prompt_number": 31
    },
    {
     "cell_type": "code",
     "collapsed": false,
     "input": [
      "dt.datetime(2013, *(int(d) for d in r))"
     ],
     "language": "python",
     "metadata": {},
     "outputs": [
      {
       "metadata": {},
       "output_type": "pyout",
       "prompt_number": 35,
       "text": [
        "'2013-02-02'"
       ]
      }
     ],
     "prompt_number": 35
    },
    {
     "cell_type": "code",
     "collapsed": false,
     "input": [
      "def parse_sheet(df, month):\n",
      "    df.columns = [\"no\", \"date\", \"lon\", \"lat\", \"depth\", \"scale\"]\n",
      "    df[\"date\"] = df.date.apply(\n",
      "        lambda t: dt.datetime(2013, \n",
      "            *(int(d) for d in re.match(\"(\\d+)\u6708(\\d+)\u65e5(\\d+)\u6642(\\d+)\u5206\", t, re.UNICODE).groups())\n",
      "    ))\n",
      "    df[\"month\"] = month\n",
      "    return df"
     ],
     "language": "python",
     "metadata": {},
     "outputs": [],
     "prompt_number": 39
    },
    {
     "cell_type": "code",
     "collapsed": false,
     "input": [
      "df_month_list = [parse_sheet(pd.read_excel(\"earthquake_month.xlsx\", str(m)).dropna(), str(m)) for m in range(1, 12)]"
     ],
     "language": "python",
     "metadata": {},
     "outputs": [],
     "prompt_number": 41
    },
    {
     "cell_type": "code",
     "collapsed": false,
     "input": [
      "df_combined = pd.concat(df_month_list)"
     ],
     "language": "python",
     "metadata": {},
     "outputs": [],
     "prompt_number": 42
    },
    {
     "cell_type": "code",
     "collapsed": false,
     "input": [
      "df_combined.to_csv(\"earthquake_month_parsed.csv\")"
     ],
     "language": "python",
     "metadata": {},
     "outputs": [],
     "prompt_number": 47
    },
    {
     "cell_type": "code",
     "collapsed": false,
     "input": [],
     "language": "python",
     "metadata": {},
     "outputs": []
    }
   ],
   "metadata": {}
  }
 ]
}