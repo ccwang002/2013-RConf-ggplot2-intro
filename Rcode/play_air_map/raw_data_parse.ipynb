{
 "metadata": {
  "name": ""
 },
 "nbformat": 3,
 "nbformat_minor": 0,
 "worksheets": [
  {
   "cells": [
    {
     "cell_type": "code",
     "collapsed": false,
     "input": [
      "import os\n",
      "op = os.path\n",
      "import pandas as pd\n",
      "from pandas import DataFrame\n",
      "import re"
     ],
     "language": "python",
     "metadata": {},
     "outputs": [],
     "prompt_number": 117
    },
    {
     "cell_type": "code",
     "collapsed": false,
     "input": [
      "pwd"
     ],
     "language": "python",
     "metadata": {},
     "outputs": [
      {
       "metadata": {},
       "output_type": "pyout",
       "prompt_number": 2,
       "text": [
        "'/Users/liang/code/2013-RConf-ggplot2-intro/Rcode/play_air_map'"
       ]
      }
     ],
     "prompt_number": 2
    },
    {
     "cell_type": "code",
     "collapsed": false,
     "input": [
      "raw_data_dir = \"101\u5e74 \u5317\u90e8\u7a7a\u54c1\u5340\""
     ],
     "language": "python",
     "metadata": {},
     "outputs": [],
     "prompt_number": 3
    },
    {
     "cell_type": "code",
     "collapsed": false,
     "input": [
      "raw_xls_list = [op.join(raw_data_dir, f) for f in os.listdir(raw_data_dir) if f.endswith('.xls')]"
     ],
     "language": "python",
     "metadata": {},
     "outputs": [],
     "prompt_number": 4
    },
    {
     "cell_type": "code",
     "collapsed": false,
     "input": [
      "def data_parser(df, loc):\n",
      "    for d in df.groupby('\u6e2c\u9805'):\n",
      "        #print(d[1].iloc[300, :].values)\n",
      "        df_part = d[1].iloc[:, 3:].convert_objects(convert_numeric=True)\n",
      "        yield DataFrame({\n",
      "            'loc': [loc] * 24,\n",
      "            'pollutant': [d[0]] * 24,\n",
      "            'hour': list(range(1, 25)),\n",
      "            'value': df_part.mean()\n",
      "        })\n",
      "    "
     ],
     "language": "python",
     "metadata": {},
     "outputs": [],
     "prompt_number": 111
    },
    {
     "cell_type": "code",
     "collapsed": false,
     "input": [
      "def parse_xls(file_path):\n",
      "    df = pd.read_excel(file_path, \"Sheet1\")\n",
      "    df_filtered = df[(df['\u6e2c\u9805'] == 'PM10')|(df['\u6e2c\u9805'] == 'SO2')|(df['\u6e2c\u9805'] == 'NO2')]\n",
      "    loc = re.search(r\"/101\u5e74(.*)\u7ad9_2013.*\", file_path, re.UNICODE).group(1)\n",
      "    return pd.concat(list(data_parser(df_filtered, loc)))"
     ],
     "language": "python",
     "metadata": {},
     "outputs": [],
     "prompt_number": 136
    },
    {
     "cell_type": "code",
     "collapsed": false,
     "input": [
      "# This step takes long time\n",
      "df_list = [parse_xls(f) for f in raw_xls_list]"
     ],
     "language": "python",
     "metadata": {},
     "outputs": [],
     "prompt_number": 137
    },
    {
     "cell_type": "code",
     "collapsed": false,
     "input": [
      "df_final = pd.concat(df_list)"
     ],
     "language": "python",
     "metadata": {},
     "outputs": [],
     "prompt_number": 138
    },
    {
     "cell_type": "code",
     "collapsed": false,
     "input": [
      "df_final.to_csv(\"air_nothern_2012.csv\", index=False)"
     ],
     "language": "python",
     "metadata": {},
     "outputs": [],
     "prompt_number": 139
    },
    {
     "cell_type": "code",
     "collapsed": false,
     "input": [],
     "language": "python",
     "metadata": {},
     "outputs": []
    }
   ],
   "metadata": {}
  }
 ]
}